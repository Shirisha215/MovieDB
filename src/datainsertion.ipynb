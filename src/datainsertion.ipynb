{
 "cells": [
  {
   "cell_type": "code",
   "execution_count": 1,
   "metadata": {},
   "outputs": [],
   "source": [
    "from config import CONFIG\n",
    "from storageutils import MySQLManager"
   ]
  },
  {
   "cell_type": "code",
   "execution_count": 22,
   "metadata": {},
   "outputs": [
    {
     "data": {
      "text/plain": [
       "[{'movie_title': 'Bahubali',\n",
       "  'movie_id': '1',\n",
       "  'genre': 'Action',\n",
       "  'release_date': datetime.date(2022, 3, 24),\n",
       "  'director': 'Rajamouli'}]"
      ]
     },
     "execution_count": 22,
     "metadata": {},
     "output_type": "execute_result"
    }
   ],
   "source": [
    "query = 'select * from Moviedb6714;'\n",
    "res=[]\n",
    "try:\n",
    "    res=MySQLManager.execute_query(query,None,**CONFIG['database']['gnits'])\n",
    "except Exception as error:\n",
    "    print(error)\n",
    "res"
   ]
  },
  {
   "cell_type": "code",
   "execution_count": 23,
   "metadata": {},
   "outputs": [],
   "source": [
    "#query='insert into Moviedb6714 values(\"{}\",\"{}\",\"{}\",\"{}\");'.format(\"RRR\",\"Action\",\"2022-03-24\",\"Rajamouli\")\n",
    "try:\n",
    "    res=MySQLManager.insert(\"Moviedb6714\",{'movie_title': 'RRR','movie_id':'2','genre': 'Action',\n",
    "  'release_date': '2022-03-24',\n",
    "  'director': 'Rajamouli'},**CONFIG['database']['gnits'])\n",
    "except Exception as error:\n",
    "    print(error)"
   ]
  },
  {
   "cell_type": "code",
   "execution_count": 24,
   "metadata": {},
   "outputs": [],
   "source": [
    "#query=\"update Moviedb6714 set release_date='2015-05-21' where movie_title='Bahubali';\"\n",
    "try:\n",
    "    res=MySQLManager.update(\"Moviedb6714\",{'release_date': '2015-05-21'},{'movie_title': 'Bahubali'},**CONFIG['database']['gnits'])\n",
    "except Exception as error:\n",
    "    print(error)"
   ]
  },
  {
   "cell_type": "code",
   "execution_count": 25,
   "metadata": {},
   "outputs": [
    {
     "name": "stdout",
     "output_type": "stream",
     "text": [
      "No result set to fetch from.\n"
     ]
    }
   ],
   "source": [
    "query='insert into Moviedb6714 values(\"{}\",\"{}\",\"{}\",\"{}\",\"{}\");'.format(\"AlaVaikuntapuramlo\",\"Drama\",\"3\",\"2020-01-12\",\"Trivikram\")\n",
    "try:\n",
    "    res=MySQLManager.execute_query(query,None,**CONFIG['database']['gnits'])\n",
    "except Exception as error:\n",
    "    print(error)"
   ]
  },
  {
   "cell_type": "code",
   "execution_count": 39,
   "metadata": {},
   "outputs": [],
   "source": [
    "from faker import Faker\n",
    "import numpy as np\n",
    "import random\n",
    "\n",
    "fake = Faker()\n",
    "genre_list = ['Action', 'Drama', 'Sci-fi', 'Horror','Thriller']\n",
    "\n",
    "def faker_data_generator(num=1, seed=None):\n",
    "    fake.seed_instance(seed)\n",
    "    output = []\n",
    "    for x in range(num):\n",
    "       given_name = fake.first_name()\n",
    "       surname = fake.last_name()\n",
    "       generated_name = given_name + ' ' + surname\n",
    "       def capitalize(str):\n",
    "          return str.capitalize()\n",
    "       words = fake.words()\n",
    "       capitalized_words = list(map(capitalize, words))\n",
    "       movie_title1 = ' '.join(capitalized_words)\n",
    "       #movie_title1 = fake.title()\n",
    "       movie_date1 = fake.date()\n",
    "       output.append(\n",
    "        {\n",
    "           \"movie_title\": movie_title1,\n",
    "           \"movie_id\":x +250,\n",
    "           \"genre\": random.choice(genre_list) ,\n",
    "           \"release_date\": movie_date1 ,\n",
    "           \"director\":generated_name\n",
    "        }\n",
    "      )\n",
    "    return output"
   ]
  },
  {
   "cell_type": "code",
   "execution_count": 40,
   "metadata": {},
   "outputs": [
    {
     "data": {
      "text/plain": [
       "49"
      ]
     },
     "execution_count": 40,
     "metadata": {},
     "output_type": "execute_result"
    }
   ],
   "source": [
    "Movie_db = faker_data_generator(250, 2)\n",
    "table = 'Moviedb6714'\n",
    "cols = ['movie_title', 'movie_id', 'genre', 'release_date', 'director']\n",
    "data = []\n",
    "for item in Movie_db:\n",
    "    x = {}\n",
    "    x['movie_title'] = item['movie_title']\n",
    "    x['movie_id'] = str(item['movie_id'])\n",
    "    x['genre'] = item['genre']\n",
    "    x['release_date'] = item['release_date']\n",
    "    x['director'] = item['director']\n",
    "    data.append(x)\n",
    "    if len(data) > 200:\n",
    "        MySQLManager.bulk_insert(table, cols, data, **CONFIG[\"database\"][\"gnits\"])\n",
    "        data = []\n",
    "MySQLManager.bulk_insert(table, cols, data, **CONFIG[\"database\"][\"gnits\"])"
   ]
  }
 ],
 "metadata": {
  "kernelspec": {
   "display_name": ".venv",
   "language": "python",
   "name": "python3"
  },
  "language_info": {
   "codemirror_mode": {
    "name": "ipython",
    "version": 3
   },
   "file_extension": ".py",
   "mimetype": "text/x-python",
   "name": "python",
   "nbconvert_exporter": "python",
   "pygments_lexer": "ipython3",
   "version": "3.10.0"
  },
  "orig_nbformat": 4
 },
 "nbformat": 4,
 "nbformat_minor": 2
}
